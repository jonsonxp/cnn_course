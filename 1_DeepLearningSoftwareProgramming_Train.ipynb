{
  "nbformat": 4,
  "nbformat_minor": 0,
  "metadata": {
    "colab": {
      "name": "1_DeepLearningSoftwareProgramming-Train.ipynb",
      "provenance": [],
      "private_outputs": true,
      "collapsed_sections": []
    },
    "kernelspec": {
      "display_name": "Python 3",
      "language": "python",
      "name": "python3"
    },
    "language_info": {
      "codemirror_mode": {
        "name": "ipython",
        "version": 3
      },
      "file_extension": ".py",
      "mimetype": "text/x-python",
      "name": "python",
      "nbconvert_exporter": "python",
      "pygments_lexer": "ipython3",
      "version": "3.6.9"
    },
    "accelerator": "GPU"
  },
  "cells": [
    {
      "cell_type": "markdown",
      "metadata": {
        "id": "rX8mhOLljYeM"
      },
      "source": [
        "## System Architecture 12 - Deep Learning Software Programming\n",
        "\n",
        "## (Part I) Model design and training\n",
        "\n",
        "Author: Qian Zhao and Noriyuki Kushiro, Department of Computer Science and Networks, Kyushu Institute of Technology, 2020.\n",
        "\n",
        "---"
      ]
    },
    {
      "cell_type": "markdown",
      "metadata": {
        "id": "ycM46YBK10Lu"
      },
      "source": [
        "This jupyter notebook shows how to build a simple neural network to recognize handwritting images.\n",
        "\n",
        "A workable neural network has a proper network structure and correct weight (parameters) values.\n",
        "\n",
        "The neural network we used is a simple classical convolutional neural network (CNN) for image classification, the LeNet-5. \n",
        "\n",
        "We use MNIST dataset to train LeNet-5 to implement accurate handwritting image recognition."
      ]
    },
    {
      "cell_type": "markdown",
      "metadata": {
        "id": "p0zJFbNT10Lx"
      },
      "source": [
        "## Prepare: Python packages imported below are required.\n",
        "If you run the notebook on our prepared server, just push run button and enjoy.\n",
        "\n",
        "If you wish to run this notebook on your own computer, you have to prepare python enviroment with these packages installed."
      ]
    },
    {
      "cell_type": "code",
      "metadata": {
        "id": "0trJmd6DjqBZ"
      },
      "source": [
        "import tensorflow as tf\n",
        "from tensorflow.keras import Model\n",
        "from tensorflow.keras.models import Sequential\n",
        "from tensorflow.keras.losses import categorical_crossentropy\n",
        "from tensorflow.keras.layers import Dense, Flatten, Conv2D, MaxPooling2D\n",
        "from tensorflow.keras.utils import to_categorical\n",
        "from tensorflow.keras import datasets\n",
        "import matplotlib.pyplot as plt\n",
        "from IPython.display import clear_output\n",
        "import numpy as np\n",
        "from time import time\n",
        "from datetime import datetime\n",
        "import os\n",
        "import warnings; warnings.simplefilter('ignore')\n",
        "print(\"TensorFlow version: \", tf.__version__)"
      ],
      "execution_count": null,
      "outputs": []
    },
    {
      "cell_type": "markdown",
      "metadata": {
        "id": "w4Nl1fL210L9"
      },
      "source": [
        "Choose CPU or GPU to run this notebook (default is CPU here).\n",
        "\n",
        "CPU: use \"os.environ['CUDA_VISIBLE_DEVICES'] = '-1'\" line.\n",
        "GPU: comment out \"os.environ['CUDA_VISIBLE_DEVICES'] = '-1'\".\n",
        "\n",
        "Click \"Kernel\" -> \"Restart & Clean output\" after change."
      ]
    },
    {
      "cell_type": "code",
      "metadata": {
        "scrolled": true,
        "id": "CEGUmXT210L-"
      },
      "source": [
        "#os.environ['CUDA_VISIBLE_DEVICES'] = '-1' #comment out this line if you want to use GPU\n",
        "if tf.test.gpu_device_name():\n",
        "    print('GPU found')\n",
        "    !nvidia-smi\n",
        "else:\n",
        "    print(\"No GPU found, use CPU\")"
      ],
      "execution_count": null,
      "outputs": []
    },
    {
      "cell_type": "code",
      "metadata": {
        "id": "GgOa7tWopQXM"
      },
      "source": [
        "mnist = tf.keras.datasets.mnist\n",
        "(x_train, y_train), (x_test, y_test) = mnist.load_data()"
      ],
      "execution_count": null,
      "outputs": []
    },
    {
      "cell_type": "markdown",
      "metadata": {
        "id": "7NAbSZiaoJ4z"
      },
      "source": [
        "## Step 1. Download [MNIST](http://yann.lecun.com/exdb/mnist/) dataset and prepare data for training "
      ]
    },
    {
      "cell_type": "markdown",
      "metadata": {
        "id": "KBk_5t-m10MD"
      },
      "source": [
        "Prepare MNIST dataset using Keras.datasets automatically."
      ]
    },
    {
      "cell_type": "code",
      "metadata": {
        "id": "7FP5258xjs-v",
        "scrolled": true
      },
      "source": [
        "%%time\n",
        "\n",
        "mnist = tf.keras.datasets.mnist\n",
        "(x_train, y_train), (x_test, y_test) = mnist.load_data()\n"
      ],
      "execution_count": null,
      "outputs": []
    },
    {
      "cell_type": "markdown",
      "metadata": {
        "id": "E_vsi1Bz10MH"
      },
      "source": [
        "Change and print out tensor shape.\n",
        "\n",
        "The dataset tensor shape has four dimentions, like (60000, 28, 28, 1)\n",
        "\n",
        "1st dimension 60000 is the index of data item.\n",
        "\n",
        "(28, 28, 1) means 28 * 28 pixels image, with color channel of 1 (gray). An RGB color image has 3 color channels."
      ]
    },
    {
      "cell_type": "code",
      "metadata": {
        "id": "F3Kl08gk10MH"
      },
      "source": [
        "%%time\n",
        "\n",
        "x_train, x_test = x_train / 255.0, x_test / 255.0\n",
        "\n",
        "x_train = x_train[:, :, :, np.newaxis]\n",
        "x_test = x_test[:, :, :, np.newaxis]\n",
        "\n",
        "y_train = to_categorical(y_train, 10)\n",
        "y_test = to_categorical(y_test, 10)\n",
        "\n",
        "print('x_train shape:', x_train.shape)\n",
        "print(x_train.shape[0], 'train samples')\n",
        "print(x_test.shape[0], 'test samples')"
      ],
      "execution_count": null,
      "outputs": []
    },
    {
      "cell_type": "markdown",
      "metadata": {
        "id": "ms2i835810MK"
      },
      "source": [
        "Preview some image samples of MNIST dataset."
      ]
    },
    {
      "cell_type": "code",
      "metadata": {
        "id": "wzTJ-q-B10MK"
      },
      "source": [
        "%matplotlib inline\n",
        "\n",
        "plt.figure(figsize=(12,10))\n",
        "x, y = 10, 4\n",
        "for i in range(40):  \n",
        "    plt.subplot(y, x, i+1)\n",
        "    plt.imshow(x_train[i].reshape((28,28)),interpolation='nearest')\n",
        "plt.show()"
      ],
      "execution_count": null,
      "outputs": []
    },
    {
      "cell_type": "markdown",
      "metadata": {
        "id": "WddXmhIU10MM"
      },
      "source": [
        "By here, we have imported MNIST handwritting data for training and testing our neural network.\n",
        "There are 60,000 samples for training, which are saved in x_train (input image) and y_train (expecetd label).\n",
        "There are 10,000 samples for test, which are saved in x_test (input image) and y_test (expecetd label)."
      ]
    },
    {
      "cell_type": "markdown",
      "metadata": {
        "id": "rq8g0gSH10MM"
      },
      "source": [
        "## Step 2. Building a classic LeNet-5 nerual network model"
      ]
    },
    {
      "cell_type": "markdown",
      "metadata": {
        "id": "5p_DDfgj10MN"
      },
      "source": [
        "Descripting the structure of the classical simple LeNet-5 using Keras frontend modules. Keras provides common neural network layers like Dense, Flatten, Conv2D, AveragePooling2D. These layers can be convinentlly instanced, customized and connected to form various neural networks."
      ]
    },
    {
      "cell_type": "code",
      "metadata": {
        "id": "BKTUFlV810MN"
      },
      "source": [
        "# LeNet-5 model as example\n",
        "class LeNet(Sequential):\n",
        "    def __init__(self, input_shape, nb_classes):\n",
        "        super().__init__()\n",
        "\n",
        "        self.add(Conv2D(6, kernel_size=(5, 5), strides=(1, 1), activation='relu', input_shape=input_shape))\n",
        "        self.add(MaxPooling2D(pool_size=(2, 2), strides=(2, 2), padding='valid'))\n",
        "        self.add(Conv2D(16, kernel_size=(5, 5), strides=(1, 1), activation='relu', padding='valid'))\n",
        "        self.add(MaxPooling2D(pool_size=(2, 2), strides=(2, 2), padding='valid'))\n",
        "        self.add(Flatten())\n",
        "        self.add(Dense(120, activation='relu'))\n",
        "        self.add(Dense(84, activation='relu'))\n",
        "        self.add(Dense(nb_classes, activation='softmax'))\n",
        "\n",
        "        self.compile(optimizer='adam',\n",
        "                    loss=categorical_crossentropy,\n",
        "                    metrics=['accuracy'])"
      ],
      "execution_count": null,
      "outputs": []
    },
    {
      "cell_type": "markdown",
      "metadata": {
        "id": "pvOK1U5J10MP"
      },
      "source": [
        "Make a model instance from LeNet class. Then show the structure summary of model."
      ]
    },
    {
      "cell_type": "code",
      "metadata": {
        "id": "h3IKyzTCDNGo"
      },
      "source": [
        "%%time\n",
        "\n",
        "input_shape = x_train[0].shape  # set input tensor shape with the shape of the first x_train data.\n",
        "num_class = 10                             # set the number of output class. An input image will be classified to 10 numbers (0 ~ 9).\n",
        "model = LeNet(x_train[0].shape, num_class)\n",
        "model.summary()"
      ],
      "execution_count": null,
      "outputs": []
    },
    {
      "cell_type": "markdown",
      "metadata": {
        "id": "IOsesVPQ10MR"
      },
      "source": [
        "By here, we have finished building the structure of the LeNet-5 neural network."
      ]
    },
    {
      "cell_type": "markdown",
      "metadata": {
        "id": "hK7PRLCY10MS"
      },
      "source": [
        "## Step 3. Train model with dataset"
      ]
    },
    {
      "cell_type": "markdown",
      "metadata": {
        "id": "iQ64p4Bz10MS"
      },
      "source": [
        "Finally, we use the MNIST dataset to train LeNet-5 model. As shown in the model summary, the LeNet-5 has 44,426 trainable parameters. The target of the training process is to set these parameters to proposer values."
      ]
    },
    {
      "cell_type": "code",
      "metadata": {
        "id": "Kaq8WD3k10MS"
      },
      "source": [
        "#setup logging callback function, so we can log the training process\n",
        "logs = \"logs/\" + datetime.now().strftime(\"%Y%m%d-%H%M%S\")\n",
        "tboard_callback = tf.keras.callbacks.TensorBoard(log_dir = logs, histogram_freq = 1, profile_batch = '5, 10')"
      ],
      "execution_count": null,
      "outputs": []
    },
    {
      "cell_type": "markdown",
      "metadata": {
        "id": "gUJ0wMC310MU"
      },
      "source": [
        "Perform model training.\n",
        "\n",
        "epochs = 5 : train the model for 5 times using the same dataset.\n",
        "\n",
        "batch_size = 20 : number of data for one training process."
      ]
    },
    {
      "cell_type": "code",
      "metadata": {
        "id": "wU5wv1KEh5c1",
        "scrolled": true
      },
      "source": [
        "%%time\n",
        "\n",
        "model.fit(x_train, y_train, validation_data=(x_test, y_test), epochs=5, batch_size=20, callbacks=[tboard_callback])"
      ],
      "execution_count": null,
      "outputs": []
    },
    {
      "cell_type": "markdown",
      "metadata": {
        "id": "s0oLvkju10MW"
      },
      "source": [
        "Show training result with tensorboard. We can analysis accuracy and performance of neural network model with this tool."
      ]
    },
    {
      "cell_type": "code",
      "metadata": {
        "id": "Xw7K3muQ10MW"
      },
      "source": [
        "%load_ext tensorboard\n",
        "%tensorboard --logdir logs"
      ],
      "execution_count": null,
      "outputs": []
    },
    {
      "cell_type": "markdown",
      "metadata": {
        "id": "gENptVK710MY"
      },
      "source": [
        "Save the trained weights to a file, so it can be used in future without retraining."
      ]
    },
    {
      "cell_type": "code",
      "metadata": {
        "id": "kcWoqEj610MY"
      },
      "source": [
        "model.save_weights('my_lenet_mnist_model.weight')"
      ],
      "execution_count": null,
      "outputs": []
    }
  ]
}